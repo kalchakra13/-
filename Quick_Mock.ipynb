{
  "nbformat": 4,
  "nbformat_minor": 0,
  "metadata": {
    "colab": {
      "private_outputs": true,
      "provenance": [],
      "authorship_tag": "ABX9TyPrGcLnmycHIemoMOtuOZjF",
      "include_colab_link": true
    },
    "kernelspec": {
      "name": "python3",
      "display_name": "Python 3"
    },
    "language_info": {
      "name": "python"
    }
  },
  "cells": [
    {
      "cell_type": "markdown",
      "metadata": {
        "id": "view-in-github",
        "colab_type": "text"
      },
      "source": [
        "<a href=\"https://colab.research.google.com/github/kalchakra13/-/blob/main/Quick_Mock.ipynb\" target=\"_parent\"><img src=\"https://colab.research.google.com/assets/colab-badge.svg\" alt=\"Open In Colab\"/></a>"
      ]
    },
    {
      "cell_type": "code",
      "source": [
        "!pip install langchain openai"
      ],
      "metadata": {
        "id": "nlduCeSqN17h"
      },
      "execution_count": null,
      "outputs": []
    },
    {
      "cell_type": "code",
      "execution_count": null,
      "metadata": {
        "id": "SuTFC3aINxVp"
      },
      "outputs": [],
      "source": [
        "from langchain.llms import OpenAI\n",
        "from langchain.agents import create_pandas_dataframe_agent\n",
        "from langchain.agents import create_csv_agent\n",
        "import pandas as pd\n",
        "import json\n"
      ]
    },
    {
      "cell_type": "code",
      "source": [
        "import os\n",
        "os.environ[\"OPENAI_API_KEY\"] = \"\" # Please enter your key"
      ],
      "metadata": {
        "id": "_-WGob2ANzsy"
      },
      "execution_count": null,
      "outputs": []
    },
    {
      "cell_type": "code",
      "source": [
        "\n",
        "df = pd.read_csv('/content/hack.csv')\n",
        "\n",
        "agent = create_pandas_dataframe_agent(OpenAI(temperature=0), df, verbose=True)\n"
      ],
      "metadata": {
        "id": "DyNaqz8ZPdiA"
      },
      "execution_count": null,
      "outputs": []
    },
    {
      "cell_type": "code",
      "source": [
        "agent.run(\"how many rows are there?\")\n"
      ],
      "metadata": {
        "id": "i443vR4xP8WE"
      },
      "execution_count": null,
      "outputs": []
    },
    {
      "cell_type": "code",
      "source": [
        "agent.run(\"What is cashout totals? \")\n"
      ],
      "metadata": {
        "id": "UCpciHBMQETB"
      },
      "execution_count": null,
      "outputs": []
    },
    {
      "cell_type": "code",
      "source": [
        "agent.run(\"Rank zip Codes from greatest to lowest have highest aggregate of cashout and list them in a table?\")\n"
      ],
      "metadata": {
        "id": "fdwTwWLYQHEa"
      },
      "execution_count": null,
      "outputs": []
    },
    {
      "cell_type": "code",
      "source": [
        "agent.run(\"What is the total revenue by store?\")"
      ],
      "metadata": {
        "id": "WgR8zKQEqfLa"
      },
      "execution_count": null,
      "outputs": []
    },
    {
      "cell_type": "code",
      "source": [
        "agent.run(\"Which are biggest expenses across all shops?\")"
      ],
      "metadata": {
        "id": "TvpbjCDJq0Cd"
      },
      "execution_count": null,
      "outputs": []
    },
    {
      "cell_type": "code",
      "source": [
        "agent.run(\"Which month and year is more profitbale?\")"
      ],
      "metadata": {
        "id": "8S8GnVZXrrVT"
      },
      "execution_count": null,
      "outputs": []
    },
    {
      "cell_type": "code",
      "source": [
        "agent.run(\"Which store is profitable in June?\")"
      ],
      "metadata": {
        "id": "rEbcQ9vOsyP4"
      },
      "execution_count": null,
      "outputs": []
    },
    {
      "cell_type": "code",
      "source": [
        "agent.run(\"What's the total and average revenues per store?\")"
      ],
      "metadata": {
        "id": "fw7-B9dgtNcx"
      },
      "execution_count": null,
      "outputs": []
    },
    {
      "cell_type": "code",
      "source": [
        "agent.run(\"How many stores are unprofitable?\")"
      ],
      "metadata": {
        "id": "EQb8EjRNtfq7"
      },
      "execution_count": null,
      "outputs": []
    },
    {
      "cell_type": "code",
      "source": [
        "agent.run(\"What is average profit per store in 2022 and 2023?\")"
      ],
      "metadata": {
        "id": "6DOEzKAPtsWs"
      },
      "execution_count": null,
      "outputs": []
    },
    {
      "cell_type": "code",
      "source": [
        "agent.run(\"Why my profits per store are down from 2022 to 2023?\")"
      ],
      "metadata": {
        "id": "4aR_qRVut9ZE"
      },
      "execution_count": null,
      "outputs": []
    }
  ]
}